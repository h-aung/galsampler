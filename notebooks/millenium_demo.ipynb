{
 "cells": [
  {
   "cell_type": "code",
   "execution_count": 1,
   "metadata": {
    "collapsed": true
   },
   "outputs": [],
   "source": [
    "import numpy as np\n",
    "import matplotlib.pyplot as plt\n",
    "from halotools.sim_manager import CachedHaloCatalog, TabularAsciiReader\n",
    "\n",
    "%matplotlib inline"
   ]
  },
  {
   "cell_type": "code",
   "execution_count": 2,
   "metadata": {
    "collapsed": false
   },
   "outputs": [
    {
     "name": "stdout",
     "output_type": "stream",
     "text": [
      "\n",
      "...Processing ASCII data of file: \n",
      "/Users/hsa23/Desktop/workshops/lsst/Millenium/z0_xyz_0_100_sm_1e9_guo.txt\n",
      " \n",
      "Total number of rows in detected data = 10154\n",
      "Number of rows in detected header = 96 \n",
      "\n",
      "... working on chunk 0 of 1\n",
      "Total runtime to read in ASCII = 0.19 seconds\n",
      "\n",
      "\u0007\n"
     ]
    }
   ],
   "source": [
    "halocat = CachedHaloCatalog(simname='bolplanck')\n",
    "#Vbox_source = np.prod(halocat.Lbox)\n",
    "\n",
    "source_fname = \"/Users/hsa23/Desktop/workshops/lsst/Millenium/z0_xyz_0_100_sm_1e9_guo.txt\"\n",
    "columns = {'halo_id':(0,'i8'),'halo_hostid':(6,'i8'),'x':(17,'f4'),'y':(18,'f4'),'z':(19,'f4'),\n",
    "           'sm':(40,'f4'),'bhmass':(44,'f4'),'sfr':(52,'f4'),'u_mag':(61,'f4'),\n",
    "           'vmax':(27,'f4'),'mvir':(24,'f4')}\n",
    "reader = TabularAsciiReader(source_fname, columns) \n",
    "\n",
    "from astropy.table import Table \n",
    "source_gals = Table(reader.read_ascii())\n",
    "source_gals['mvir'] *= 1e10\n",
    "source_gals['sm'] *= 1e10"
   ]
  },
  {
   "cell_type": "code",
   "execution_count": 3,
   "metadata": {
    "collapsed": false
   },
   "outputs": [
    {
     "name": "stdout",
     "output_type": "stream",
     "text": [
      "\n",
      "...Processing ASCII data of file: \n",
      "/Users/hsa23/Desktop/workshops/lsst/Millenium/z0_xyz_0_100_halo.txt\n",
      " \n",
      "Total number of rows in detected data = 37028\n",
      "Number of rows in detected header = 19 \n",
      "\n",
      "... working on chunk 0 of 1\n",
      "Total runtime to read in ASCII = 0.23 seconds\n",
      "\n",
      "\u0007\n"
     ]
    }
   ],
   "source": [
    "source_fname = \"/Users/hsa23/Desktop/workshops/lsst/Millenium/z0_xyz_0_100_halo.txt\"\n",
    "columns = {'x':(0,'f4'),'y':(1,'f4'),'z':(2,'f4'),'halo_mvir':(3,'f4'),'halo_id':(4,'i8'),'tree_id':(5,'i8')}\n",
    "reader = TabularAsciiReader(source_fname, columns) \n",
    "\n",
    "from astropy.table import Table\n",
    "source_halos = reader.read_ascii()\n",
    "source_halos['halo_mvir'] *= -1e10\n",
    "\n",
    "source_halos = Table(np.sort(source_halos,order=['tree_id','halo_mvir']))\n",
    "source_halos['halo_mvir'] *= -1\n",
    "\n",
    "u, indices = np.unique(source_halos['tree_id'],return_index=True)\n",
    "source_halos = source_halos[indices]\n",
    "source_halos=source_halos[source_halos['halo_mvir']>0]"
   ]
  },
  {
   "cell_type": "code",
   "execution_count": 4,
   "metadata": {
    "collapsed": false
   },
   "outputs": [],
   "source": [
    "from halotools.utils import crossmatch\n",
    "idx_subs, idx_hosts = crossmatch(source_gals['halo_hostid'], source_halos['tree_id'])\n",
    "source_gals['halo_x'] = np.zeros(len(source_gals), dtype = source_halos['x'].dtype)\n",
    "source_gals['halo_x'][idx_subs] = source_halos['x'][idx_hosts]\n",
    "source_gals['halo_y'] = np.zeros(len(source_gals), dtype = source_halos['y'].dtype)\n",
    "source_gals['halo_y'][idx_subs] = source_halos['y'][idx_hosts]\n",
    "source_gals['halo_z'] = np.zeros(len(source_gals), dtype = source_halos['z'].dtype)\n",
    "source_gals['halo_z'][idx_subs] = source_halos['z'][idx_hosts]\n",
    "source_gals['halo_mvir'] = np.zeros(len(source_gals), dtype = source_halos['halo_mvir'].dtype)\n",
    "source_gals['halo_mvir'][idx_subs] = source_halos['halo_mvir'][idx_hosts]\n",
    "source_gals = source_gals[source_gals['halo_mvir']>0]"
   ]
  },
  {
   "cell_type": "code",
   "execution_count": 5,
   "metadata": {
    "collapsed": false
   },
   "outputs": [],
   "source": [
    "target_halos = Table(np.copy(halocat.halo_table))\n",
    "# all_source_gals['host_centric_x'] = all_source_gals['x'] - all_source_gals['halo_x']\n",
    "# all_source_gals['host_centric_y'] = all_source_gals['y'] - all_source_gals['halo_y']\n",
    "# all_source_gals['host_centric_z'] = all_source_gals['z'] - all_source_gals['halo_z']\n",
    "\n",
    "source_gals['host_centric_x'] = source_gals['x'] - source_gals['halo_x']\n",
    "source_gals['host_centric_y'] = source_gals['y'] - source_gals['halo_y']\n",
    "source_gals['host_centric_z'] = source_gals['z'] - source_gals['halo_z']\n",
    "\n",
    "# low, high = 50, 150\n",
    "# source_halos_mask = (target_halos['halo_x'] >= low) & (target_halos['halo_x'] < high)\n",
    "# source_halos_mask *= (target_halos['halo_y'] >= low) & (target_halos['halo_y'] < high)\n",
    "# source_halos_mask *= (target_halos['halo_z'] >= low) & (target_halos['halo_z'] < high)\n",
    "# source_halos = target_halos[source_halos_mask]\n",
    "\n",
    "# source_gals_mask = (all_source_gals['halo_x'] >= low) & (all_source_gals['halo_x'] < high)\n",
    "# source_gals_mask *= (all_source_gals['halo_y'] >= low) & (all_source_gals['halo_y'] < high)\n",
    "# source_gals_mask *= (all_source_gals['halo_z'] >= low) & (all_source_gals['halo_z'] < high)\n",
    "# source_gals = all_source_gals[source_gals_mask]\n",
    "\n",
    "# from halotools.utils import crossmatch\n",
    "idxA, idxB = crossmatch(source_gals['halo_hostid'], source_halos['tree_id'])\n",
    "assert len(source_gals) == len(source_gals[idxA])"
   ]
  },
  {
   "cell_type": "code",
   "execution_count": 6,
   "metadata": {
    "collapsed": false
   },
   "outputs": [],
   "source": [
    "from galsampler import halo_bin_indices\n",
    "\n",
    "mhost_min = target_halos['halo_mvir'].min()\n",
    "mhost_max = target_halos['halo_mvir'].max()\n",
    "log_mhost_min, log_mhost_max = np.log10(mhost_min), np.log10(mhost_max)\n",
    "mhost_bins = np.logspace(log_mhost_min, 14.75, 30)\n",
    "\n",
    "source_halos['bin_number'] = halo_bin_indices(mass=(source_halos['halo_mvir'], mhost_bins))\n",
    "target_halos['bin_number'] = halo_bin_indices(mass=(target_halos['halo_mvir'], mhost_bins))"
   ]
  },
  {
   "cell_type": "code",
   "execution_count": 7,
   "metadata": {
    "collapsed": false
   },
   "outputs": [],
   "source": [
    "from galsampler import source_galaxy_selection_indices\n",
    "\n",
    "source_galaxies_host_halo_id = source_gals['halo_hostid']\n",
    "source_halos_bin_number = source_halos['bin_number']\n",
    "source_halos_halo_id = source_halos['tree_id']\n",
    "target_halos_bin_number = target_halos['bin_number']\n",
    "target_halo_ids = target_halos['halo_id']\n",
    "nhalo_min = 1\n",
    "bins = mhost_bins\n",
    "\n",
    "results = source_galaxy_selection_indices(source_galaxies_host_halo_id, \n",
    "                        source_halos_bin_number, source_halos_halo_id, \n",
    "                        target_halos_bin_number, target_halo_ids, \n",
    "                        nhalo_min, bins)\n",
    "selection_indices, target_galaxy_target_halo_ids, target_galaxy_source_halo_ids = results\n",
    "\n",
    "from halotools.utils import crossmatch\n",
    "target_gals = Table()\n",
    "target_gals['target_halo_id'] = target_galaxy_target_halo_ids\n",
    "target_gals['source_halo_id'] = target_galaxy_source_halo_ids\n",
    "\n",
    "keys_to_inherit_from_source = ('host_centric_x', 'host_centric_y', \n",
    "                               'host_centric_z', 'sm', 'sfr', 'u_mag')\n",
    "for key in keys_to_inherit_from_source:\n",
    "    target_gals[key] = source_gals[key][selection_indices]\n",
    "    \n",
    "keys_to_inherit_from_target = ('halo_x', 'halo_y', 'halo_z', 'halo_mvir') \n",
    "idxA, idxB = crossmatch(target_gals['target_halo_id'], target_halos['halo_id'])\n",
    "for key in keys_to_inherit_from_target:\n",
    "    target_gals[key] = 0.\n",
    "    target_gals[key][idxA] = target_halos[key][idxB]\n",
    "\n",
    "target_gals['x'] = target_gals['halo_x'] + target_gals['host_centric_x']\n",
    "target_gals['y'] = target_gals['halo_y'] + target_gals['host_centric_y']\n",
    "target_gals['z'] = target_gals['halo_z'] + target_gals['host_centric_z']\n",
    "\n",
    "from halotools.empirical_models import enforce_periodicity_of_box\n",
    "target_gals['x'] = enforce_periodicity_of_box(target_gals['x'], 250.)\n",
    "target_gals['y'] = enforce_periodicity_of_box(target_gals['y'], 250.)\n",
    "target_gals['z'] = enforce_periodicity_of_box(target_gals['z'], 250.)"
   ]
  },
  {
   "cell_type": "code",
   "execution_count": 10,
   "metadata": {
    "collapsed": false
   },
   "outputs": [
    {
     "data": {
      "image/png": "[encoded data removed]",
      "text/plain": [
       "<matplotlib.figure.Figure at 0x10c4a9390>"
      ]
     },
     "metadata": {},
     "output_type": "display_data"
    }
   ],
   "source": [
    "from halotools.mock_observables import hod_from_mock\n",
    "hod_mass_bins = np.logspace(11, 14.75, 25)\n",
    "hod_mass_mids = 0.5*(hod_mass_bins[:-1] + hod_mass_bins[1:])\n",
    "\n",
    "target_hod, __ = hod_from_mock(target_gals['halo_mvir'], \n",
    "                           target_halos['halo_mvir'], haloprop_bins=hod_mass_bins)\n",
    "true_hod, __ = hod_from_mock(source_gals['halo_mvir'], \n",
    "                           source_halos['halo_mvir'], haloprop_bins=hod_mass_bins)\n",
    "\n",
    "fig, ax = plt.subplots(1, 1)\n",
    "__=ax.loglog()\n",
    "__=ax.plot(hod_mass_mids, target_hod, color='red', label='target galaxies')\n",
    "__=ax.plot(hod_mass_mids, true_hod, color='blue', label='ground truth')\n",
    "\n",
    "legend = ax.legend()\n",
    "xlabel = ax.set_xlabel(r'$M_{\\rm halo}$ $[{\\rm M_{\\odot}}]$')\n",
    "ylabel = ax.set_ylabel(r'$\\langle N_{\\rm gal}\\rangle$')\n",
    "title = ax.set_title(r'Galsampler: HOD test')\n",
    "figname = 'galsampler_HOD_test.pdf'\n",
    "fig.savefig(figname, bbox_extra_artists=[xlabel, ylabel], bbox_inches='tight')\n"
   ]
  },
  {
   "cell_type": "code",
   "execution_count": 11,
   "metadata": {
    "collapsed": false
   },
   "outputs": [
    {
     "name": "stderr",
     "output_type": "stream",
     "text": [
      "/Library/Python/2.7/site-packages/halotools/mock_observables/two_point_clustering/clustering_helpers.py:134: UserWarning: \n",
      " `sample1` exceeds `max_sample_size` \n",
      "downsampling `sample1`...\n",
      "  warn(msg)\n"
     ]
    }
   ],
   "source": [
    "from halotools.mock_observables import return_xyz_formatted_array, tpcf\n",
    "\n",
    "target_gals_pos = return_xyz_formatted_array(target_gals['x'], \n",
    "                                             target_gals['y'], target_gals['z'])\n",
    "all_source_gals_pos = return_xyz_formatted_array(source_gals['x'], \n",
    "                                             source_gals['y'], source_gals['z'])\n",
    "\n",
    "rbins = np.logspace(-1, 1.25, 25)\n",
    "\n",
    "xi_target_gals = tpcf(target_gals_pos, rbins, period=250)\n",
    "\n",
    "xi_all_source_gals = tpcf(all_source_gals_pos, rbins, period=62.5)"
   ]
  },
  {
   "cell_type": "code",
   "execution_count": 12,
   "metadata": {
    "collapsed": false
   },
   "outputs": [
    {
     "data": {
      "image/png": "[encoded data removed]",
      "text/plain": [
       "<matplotlib.figure.Figure at 0x1069bf510>"
      ]
     },
     "metadata": {},
     "output_type": "display_data"
    }
   ],
   "source": [
    "fig, ax = plt.subplots(1, 1)\n",
    "\n",
    "rmids = 0.5*(rbins[:-1] + rbins[1:])\n",
    "__=ax.loglog()\n",
    "\n",
    "__=ax.plot(rmids, xi_target_gals, label='target galaxies', color='red')\n",
    "__=ax.plot(rmids, xi_all_source_gals, label='ground truth', color='blue')\n",
    "\n",
    "legend = ax.legend()\n",
    "xlabel = ax.set_xlabel(r'$R$ $[{\\rm Mpc/h}]$')\n",
    "ylabel = ax.set_ylabel(r'$\\xi_{\\rm gg}(r)$')\n",
    "title = ax.set_title(r'Galsampler: clustering test')\n",
    "figname = 'galsampler_clustering_test.pdf'\n",
    "fig.savefig(figname, bbox_extra_artists=[xlabel, ylabel], bbox_inches='tight')\n"
   ]
  },
  {
   "cell_type": "code",
   "execution_count": 13,
   "metadata": {
    "collapsed": true
   },
   "outputs": [],
   "source": [
    "sim1_hod_mass_mids, sim1_target_hod = hod_mass_mids, target_hod\n",
    "sim1_rmids, sim1_xi_target_gals = rmids, xi_target_gals"
   ]
  },
  {
   "cell_type": "markdown",
   "metadata": {},
   "source": [
    "### Simulating 2 sims combination, Deviate from Cell 5"
   ]
  },
  {
   "cell_type": "code",
   "execution_count": 14,
   "metadata": {
    "collapsed": false
   },
   "outputs": [],
   "source": [
    "temp_source_halos = source_halos\n",
    "temp_source_gals = source_gals\n",
    "temp_target_halos = target_halos\n",
    "\n",
    "number_of_sims = 2\n",
    "masscut1 = [0,10.**13]\n",
    "masscut2 = [10.**13.5,10.**28]\n",
    "source_halos = [None]*number_of_sims\n",
    "target_halos = [None]*number_of_sims\n",
    "source_gals = [None]*number_of_sims\n",
    "target_gals = [None]*number_of_sims\n",
    "\n",
    "source_halos[0] = temp_source_halos[temp_source_halos['z']<31.25]\n",
    "source_halos[1] = temp_source_halos[temp_source_halos['z']>31.25]\n",
    "source_gals[0] = temp_source_gals[temp_source_gals['halo_z']<31.25]\n",
    "source_gals[1] = temp_source_gals[temp_source_gals['halo_z']>31.25]"
   ]
  },
  {
   "cell_type": "code",
   "execution_count": 15,
   "metadata": {
    "collapsed": false
   },
   "outputs": [],
   "source": [
    "from numpy.random import choice\n",
    "from astropy.table import vstack\n",
    "\n",
    "for i in range(number_of_sims):\n",
    "    target_halos[i] = temp_target_halos[(temp_target_halos['halo_mvir']>masscut1[i])*(temp_target_halos['halo_mvir']<masscut2[i])]\n",
    "    \n",
    "    #randomly choose ~half from first sample\n",
    "    if i!=(number_of_sims-1):\n",
    "        #choose overlapped halo IDs\n",
    "        elimhaloid = target_halos[i][target_halos[i]['halo_mvir']>masscut1[i+1]]['halo_id']\n",
    "        \n",
    "        #choose about half of them to remove, keep the ids\n",
    "        elimhaloid = choice(elimhaloid,size=len(elimhaloid)/2)\n",
    "        \n",
    "        #eliminate the chosen id's from source_halos and source_gals\n",
    "        mask = np.ones(len(target_halos[i]),dtype=bool)\n",
    "        mask[np.where(np.in1d(target_halos[i]['halo_id'],elimhaloid))]=False\n",
    "        target_halos[i] = target_halos[i][mask]\n",
    "    \n",
    "    #pull eliminated halos from first from second sample\n",
    "    if i!=0:\n",
    "        #remove overlapped region, and keep it separate\n",
    "        mask = target_halos[i]['halo_mvir']<masscut2[i-1] \n",
    "        new_halos = target_halos[i][mask] \n",
    "        target_halos[i] = target_halos[i][~mask] \n",
    "        \n",
    "        #from overlapped, choose halos removed by first sample\n",
    "        new_halos = new_halos[np.where(np.in1d(new_halos['halo_id'],addhaloid))]\n",
    "        target_halos[i] = vstack(target_halos[i],new_halos)\n",
    "\n",
    "    #eliminated in this loop will get added back in next\n",
    "    addhaloid = elimhaloid"
   ]
  },
  {
   "cell_type": "code",
   "execution_count": 16,
   "metadata": {
    "collapsed": false
   },
   "outputs": [],
   "source": [
    "from galsampler import halo_bin_indices\n",
    "\n",
    "for i in range(number_of_sims):\n",
    "    mhost_min = target_halos[i]['halo_mvir'].min()\n",
    "    mhost_max = target_halos[i]['halo_mvir'].max()\n",
    "    log_mhost_min, log_mhost_max = np.log10(mhost_min), np.log10(mhost_max)\n",
    "    mhost_bins = np.logspace(log_mhost_min, 14.75, 30)\n",
    "    \n",
    "    source_halos[i]['bin_number'] = halo_bin_indices(mass=(source_halos[i]['halo_mvir'], mhost_bins))\n",
    "    target_halos[i]['bin_number'] = halo_bin_indices(mass=(target_halos[i]['halo_mvir'], mhost_bins))"
   ]
  },
  {
   "cell_type": "code",
   "execution_count": 17,
   "metadata": {
    "collapsed": false
   },
   "outputs": [],
   "source": [
    "from galsampler import source_galaxy_selection_indices\n",
    "\n",
    "for i in range(number_of_sims):\n",
    "    source_galaxies_host_halo_id = source_gals[i]['halo_hostid']\n",
    "    source_halos_bin_number = source_halos[i]['bin_number']\n",
    "    source_halos_halo_id = source_halos[i]['tree_id']\n",
    "    target_halos_bin_number = target_halos[i]['bin_number']\n",
    "    target_halo_ids = target_halos[i]['halo_id']\n",
    "    nhalo_min = 1\n",
    "    bins = mhost_bins\n",
    "    \n",
    "    results = source_galaxy_selection_indices(source_galaxies_host_halo_id, \n",
    "                            source_halos_bin_number, source_halos_halo_id, \n",
    "                            target_halos_bin_number, target_halo_ids, \n",
    "                            nhalo_min, bins)\n",
    "    selection_indices, target_galaxy_target_halo_ids, target_galaxy_source_halo_ids = results\n",
    "    \n",
    "    target_gals[i] = Table()\n",
    "    target_gals[i]['target_halo_id'] = target_galaxy_target_halo_ids\n",
    "    target_gals[i]['source_halo_id'] = target_galaxy_source_halo_ids\n",
    "    \n",
    "    keys_to_inherit_from_source = ('host_centric_x', 'host_centric_y', \n",
    "                                   'host_centric_z', 'sm', 'sfr', 'u_mag')\n",
    "    for key in keys_to_inherit_from_source:\n",
    "        target_gals[i][key] = source_gals[i][key][selection_indices]\n",
    "        \n",
    "    keys_to_inherit_from_target = ('halo_x', 'halo_y', 'halo_z', 'halo_mvir') \n",
    "    idxA, idxB = crossmatch(target_gals[i]['target_halo_id'], target_halos[i]['halo_id'])\n",
    "    for key in keys_to_inherit_from_target:\n",
    "        target_gals[i][key] = 0.\n",
    "        target_gals[i][key][idxA] = target_halos[i][key][idxB]\n",
    "    \n",
    "    target_gals[i]['x'] = target_gals[i]['halo_x'] + target_gals[i]['host_centric_x']\n",
    "    target_gals[i]['y'] = target_gals[i]['halo_y'] + target_gals[i]['host_centric_y']\n",
    "    target_gals[i]['z'] = target_gals[i]['halo_z'] + target_gals[i]['host_centric_z']\n",
    "    \n",
    "    from halotools.empirical_models import enforce_periodicity_of_box\n",
    "    target_gals[i]['x'] = enforce_periodicity_of_box(target_gals[i]['x'], 250.)\n",
    "    target_gals[i]['y'] = enforce_periodicity_of_box(target_gals[i]['y'], 250.)\n",
    "    target_gals[i]['z'] = enforce_periodicity_of_box(target_gals[i]['z'], 250.)"
   ]
  },
  {
   "cell_type": "code",
   "execution_count": 18,
   "metadata": {
    "collapsed": true
   },
   "outputs": [],
   "source": [
    "source_halos = vstack(source_halos)\n",
    "target_halos = vstack(target_halos)\n",
    "source_gals =  vstack(source_gals)\n",
    "target_gals =  vstack(target_gals)"
   ]
  },
  {
   "cell_type": "code",
   "execution_count": 19,
   "metadata": {
    "collapsed": false
   },
   "outputs": [
    {
     "data": {
      "image/png": "[encoded data removed]",
      "text/plain": [
       "<matplotlib.figure.Figure at 0x1220dcf90>"
      ]
     },
     "metadata": {},
     "output_type": "display_data"
    }
   ],
   "source": [
    "from halotools.mock_observables import hod_from_mock\n",
    "hod_mass_bins = np.logspace(11, 14.75, 25)\n",
    "hod_mass_mids = 0.5*(hod_mass_bins[:-1] + hod_mass_bins[1:])\n",
    "\n",
    "target_hod, __ = hod_from_mock(target_gals['halo_mvir'], \n",
    "                           target_halos['halo_mvir'], haloprop_bins=hod_mass_bins)\n",
    "true_hod, __ = hod_from_mock(source_gals['halo_mvir'], \n",
    "                           source_halos['halo_mvir'], haloprop_bins=hod_mass_bins)\n",
    "\n",
    "fig, ax = plt.subplots(1, 1)\n",
    "__=ax.loglog()\n",
    "__=ax.plot(hod_mass_mids, target_hod, color='red', label='Galsampled BolshoiP w/ 2 sources')\n",
    "__=ax.plot(hod_mass_mids, true_hod, color='blue', label='Millenium source')\n",
    "__=ax.plot(sim1_hod_mass_mids, sim1_target_hod, color='green', label='Galsampled BolshoiP')\n",
    "sim1_hod_mass_mids, sim1_target_hod\n",
    "\n",
    "legend = ax.legend()\n",
    "xlabel = ax.set_xlabel(r'$M_{\\rm halo}$ $[{\\rm M_{\\odot}}]$')\n",
    "ylabel = ax.set_ylabel(r'$\\langle N_{\\rm gal}\\rangle$')\n",
    "title = ax.set_title(r'Galsampler: HOD test')\n",
    "figname = 'galsampler_HOD_test.pdf'\n",
    "fig.savefig(figname, bbox_extra_artists=[xlabel, ylabel], bbox_inches='tight')\n"
   ]
  },
  {
   "cell_type": "code",
   "execution_count": 20,
   "metadata": {
    "collapsed": false
   },
   "outputs": [],
   "source": [
    "from halotools.mock_observables import return_xyz_formatted_array, tpcf\n",
    "\n",
    "target_gals_pos = return_xyz_formatted_array(target_gals['x'], \n",
    "                                             target_gals['y'], target_gals['z'])\n",
    "all_source_gals_pos = return_xyz_formatted_array(source_gals['x'], \n",
    "                                             source_gals['y'], source_gals['z'])\n",
    "\n",
    "rbins = np.logspace(-1, 1.25, 25)\n",
    "\n",
    "xi_target_gals = tpcf(target_gals_pos, rbins, period=250)\n",
    "\n",
    "xi_all_source_gals = tpcf(all_source_gals_pos, rbins, period=62.5)"
   ]
  },
  {
   "cell_type": "code",
   "execution_count": 21,
   "metadata": {
    "collapsed": false
   },
   "outputs": [
    {
     "data": {
      "image/png": "[encoded data removed]",
      "text/plain": [
       "<matplotlib.figure.Figure at 0x14a5b4850>"
      ]
     },
     "metadata": {},
     "output_type": "display_data"
    }
   ],
   "source": [
    "fig, ax = plt.subplots(1, 1)\n",
    "\n",
    "rmids = 0.5*(rbins[:-1] + rbins[1:])\n",
    "__=ax.loglog()\n",
    "\n",
    "__=ax.plot(rmids, xi_target_gals, label='Galsampled BolshoiP w/ 2 sources', color='red')\n",
    "__=ax.plot(rmids, xi_all_source_gals, label='Millenium source', color='blue')\n",
    "__=ax.plot(sim1_rmids, sim1_xi_target_gals, label='Galsampled BolshoiP', color='green')\n",
    "\n",
    "legend = ax.legend()\n",
    "xlabel = ax.set_xlabel(r'$R$ $[{\\rm Mpc/h}]$')\n",
    "ylabel = ax.set_ylabel(r'$\\xi_{\\rm gg}(r)$')\n",
    "title = ax.set_title(r'Galsampler: clustering test')\n",
    "figname = 'galsampler_clustering_test.pdf'\n",
    "fig.savefig(figname, bbox_extra_artists=[xlabel, ylabel], bbox_inches='tight')\n"
   ]
  },
  {
   "cell_type": "code",
   "execution_count": null,
   "metadata": {
    "collapsed": true
   },
   "outputs": [],
   "source": []
  }
 ],
 "metadata": {
  "kernelspec": {
   "display_name": "Python 2",
   "language": "python",
   "name": "python2"
  },
  "language_info": {
   "codemirror_mode": {
    "name": "ipython",
    "version": 2
   },
   "file_extension": ".py",
   "mimetype": "text/x-python",
   "name": "python",
   "nbconvert_exporter": "python",
   "pygments_lexer": "ipython2",
   "version": "2.7.10"
  }
 },
 "nbformat": 4,
 "nbformat_minor": 2
}
